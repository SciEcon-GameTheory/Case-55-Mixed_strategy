{
  "nbformat": 4,
  "nbformat_minor": 2,
  "metadata": {
    "colab": {
      "name": "Case-55-Mixed_strategy.ipynb",
      "provenance": [],
      "collapsed_sections": []
    },
    "kernelspec": {
      "name": "python3",
      "display_name": "Python 3"
    },
    "language_info": {
      "name": "python"
    }
  },
  "cells": [
    {
      "cell_type": "markdown",
      "source": [
        "<font size = 6> 55 - The Power Splitting Games </font>"
      ],
      "metadata": {
        "id": "iN68PntWkTcJ"
      }
    },
    {
      "cell_type": "markdown",
      "source": [
        "<font face = Times size=4>\n",
        "\n",
        "***Backgrounds:***\n",
        "\n",
        "Several new services incentivize clients to compete in solving large computation tasks in exchange for financial rewards. This model of competitive distributed computation enables every user connected to the Internet to participate in a game in which he splits his computational power among a set of competing pools — the game is called a computational power splitting game. Bitcoin minning is a classic competitive distributed computation process.\n",
        "\n",
        "</font>"
      ],
      "metadata": {
        "id": "gmdZPczOleVK"
      }
    },
    {
      "cell_type": "markdown",
      "source": [
        "<font face = Times size=4>\n",
        "\n",
        "***Block Withholding (BWH) attack:***\n",
        "\n",
        "When a pool is under BWH attack, the attacker submits all shares he computes to the pool except shares which are also valid blocks. Since these withheld blocks would have directly translated into rewards for the pool, such an attack decreases the overall profit of the pool, thereby decreasing the reward for all individual miners in the pool including the attacker. For example, later in § IV-E, we analytically and experimentally show that miners in a pool with 25% of the total computational power in the Bitcoin network will lose 10:31% of their reward, if 20% of the pool carries out the BWH attack. Therefore, a naive intuition may suggest that miners do not have any incentive to conduct such an attack. This paper claims that this intuition is against the rational choice for any miner.\n",
        "\n",
        "</font>"
      ],
      "metadata": {
        "id": "tcUOfW_Bmzrt"
      }
    },
    {
      "cell_type": "markdown",
      "source": [
        "<font face = Times size=4>\n",
        "\n",
        "***Research Questions:***\n",
        "\n",
        "In the paper, the authors have shown that <font face = Times size=4 color = 'red'> *BWH is actually a incentive strategy for the reason that it can increse the attacker's own rewards.* </font> The question we are asking is whether their exist a dominant strategy (Nash Equilibrium) for a miner that can maximize his/her rewards?\n",
        "\n",
        "</font>"
      ],
      "metadata": {
        "id": "IbM5LcJ1o8qV"
      }
    },
    {
      "cell_type": "markdown",
      "source": [
        "<font face = Times size=4>\n",
        "\n",
        "***A Simple Case: Two Pools:***\n",
        "\n",
        "We study whether there exists a Nash equilibrium with a pure strategy in this game. Specifically, does there exist a deterministic attack strategy for each miner? \n",
        "\n",
        "For sake of simplicity, we assume that the Bitcoin network comprises of only two accessible pools $P_{1}$ and $P_{2}$, each has only one miner with computational power $\\alpha_{1}, \\alpha_{2}$ respectively. We also assume that $P_{1}$ and $P_{2}$ are both rational and motivated to perform the BWH attack on the other pool with $c_{1}\\left(c_{1}<\\alpha_{1}\\right)$ and $c_{2}\\left(c_{2}<\\alpha_{2}\\right)$ power. Before each miner makes a move, the network state is known to everyone. The goal of them is to adjust their attacking power $c_{i}$ properly to achieve higher reward.\n",
        "\n",
        "The answer to this question is that this game has only a mixed strategy in its equilibrium. The formula to solving for the NE are shown below.\n",
        "\n",
        "</font>"
      ],
      "metadata": {
        "id": "gEnBV35ZswMW"
      }
    },
    {
      "cell_type": "markdown",
      "source": [
        "<font face = Times size=4>\n",
        "\n",
        "***Nash Equilibrium for the case:***\n",
        "\n",
        "In the two-pool game, given $\\left(\\alpha_{1}, \\alpha_{2}, c_{2}\\right), P_{1}$ wants to determine $c_{1}$ that optimizes his payout $R_{1}$, which is computed as follows:\n",
        "$$\n",
        "R_{1}=\\frac{1}{1-c_{1}-c_{2}}\\left(\\frac{\\left(\\alpha_{1}-c_{1}\\right)^{2}}{\\alpha_{1}-c_{1}+c_{2}}+\\frac{c_{1}\\left(\\alpha_{2}-c_{2}\\right)}{\\alpha_{2}-c_{2}+c_{1}}\\right) .\n",
        "$$\n",
        "Similarly, $P_{2}$ wants to maximize $R_{2}$ given $\\alpha_{1}, \\alpha_{2}$, and $c_{1}$,\n",
        "$$\n",
        "R_{2}=\\frac{1}{1-c_{1}-c_{2}}\\left(\\frac{\\left(\\alpha_{2}-c_{2}\\right)^{2}}{\\alpha_{2}-c_{2}+c_{1}}+\\frac{c_{2}\\left(\\alpha_{1}-c_{1}\\right)}{\\alpha_{1}-c_{1}+c_{2}}\\right)\n",
        "$$\n",
        "\n",
        "It has been proved in the paper that \n",
        "<font face = Times size=4 color = 'red'> *given any network state, there exists a there exists a $c_{i}$ value for the miner $P_{i}$ to increase his reward $R_{i}$ and cause the other pool a loss.*</font> For specific proof, you can refer to the original paper, I will attach the link at the end.\n",
        "\n",
        "<font face = Times size=4 color = 'red'>*In other words, we need to find the $c_{i}$ that maximizes $R_{i}$ for which $c_{i}$ is the mixed strategy Nash equilibrium we are looking for.*</font>\n",
        "\n",
        "</font>"
      ],
      "metadata": {
        "id": "JrDCrCCk1sSt"
      }
    },
    {
      "cell_type": "markdown",
      "source": [
        "<font face = Times size=4>\n",
        "\n",
        "***Python Demo:***\n",
        "\n",
        "In the following Python code, we wrote a simple demo to find out the best strategy for pool 2. In order to do that, we firstly fixed $\\alpha_{1}, \\alpha_{2}$, and $c_{1}$ to be 0.35, 0.65 and 0.2. Secondly, we generated the expression for $R_{2}$ related to $c_{2}$. Then we used a Python library called scipy to do the optimization. Simply, it returns the value of the variable ($c_{2}$) when the function is at its maximum.\n",
        "\n",
        "</font>"
      ],
      "metadata": {
        "id": "yRovZ_sauerv"
      }
    },
    {
      "cell_type": "markdown",
      "source": [
        "<font face = Times size=4>\n",
        "\n",
        "***Reference:***\n",
        "\n",
        "L. Luu, R. Saha, I. Parameshwaran, P. Saxena, and A. Hobor, “On\n",
        "power splitting games in distributed computation: The case of bitcoin\n",
        "pooled mining,” in Computer Security Foundations Symposium (CSF),\n",
        "2015 IEEE 28th. IEEE, 2015, pp. 397–411.\n",
        "\n",
        "</font>"
      ],
      "metadata": {
        "id": "8WOkcaYIWkeC"
      }
    }
  ]
}